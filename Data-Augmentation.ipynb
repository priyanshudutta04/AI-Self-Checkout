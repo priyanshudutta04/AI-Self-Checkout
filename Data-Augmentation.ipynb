{
 "cells": [
  {
   "cell_type": "code",
   "execution_count": 2,
   "metadata": {},
   "outputs": [],
   "source": [
    "import os\n",
    "import cv2\n",
    "import numpy as np\n",
    "\n",
    "import random\n",
    "from matplotlib import pyplot as plt\n",
    "from sklearn.model_selection import train_test_split\n",
    "\n",
    "from  tensorflow.keras.preprocessing.image import ImageDataGenerator, array_to_img, img_to_array, load_img"
   ]
  },
  {
   "cell_type": "code",
   "execution_count": 2,
   "metadata": {},
   "outputs": [],
   "source": [
    "# from tensorflow.compat.v1 import ConfigProto\n",
    "# from tensorflow.compat.v1 import InteractiveSession\n",
    "\n",
    "# config = ConfigProto()\n",
    "# config.gpu_options.per_process_gpu_memory_fraction = 0.5\n",
    "# config.gpu_options.allow_growth = True\n",
    "# session = InteractiveSession(config=config)"
   ]
  },
  {
   "cell_type": "code",
   "execution_count": 3,
   "metadata": {},
   "outputs": [],
   "source": [
    "images_dove = []\n",
    "for filename in os.listdir('data/dove'):\n",
    "    if filename.endswith('.jpg') or filename.endswith('.png'):\n",
    "        img_path = os.path.join('data/dove', filename)\n",
    "        img = cv2.imread(img_path)\n",
    "        img = cv2.cvtColor(img, cv2.COLOR_BGR2RGB)\n",
    "        images_dove.append(img)"
   ]
  },
  {
   "cell_type": "code",
   "execution_count": 4,
   "metadata": {},
   "outputs": [],
   "source": [
    "images_lays = []\n",
    "for filename in os.listdir('data/lays'):\n",
    "    if filename.endswith('.jpg') or filename.endswith('.png'):\n",
    "        img_path = os.path.join('data/lays', filename)\n",
    "        img = cv2.imread(img_path)\n",
    "        img = cv2.cvtColor(img, cv2.COLOR_BGR2RGB)\n",
    "        images_lays.append(img)"
   ]
  },
  {
   "cell_type": "code",
   "execution_count": 5,
   "metadata": {},
   "outputs": [],
   "source": [
    "images_cake = []\n",
    "for filename in os.listdir('data/marble_cake'):\n",
    "    if filename.endswith('.jpg') or filename.endswith('.png'):\n",
    "        img_path = os.path.join('data/marble_cake', filename)\n",
    "        img = cv2.imread(img_path)\n",
    "        img = cv2.cvtColor(img, cv2.COLOR_BGR2RGB)\n",
    "        images_cake.append(img)"
   ]
  },
  {
   "cell_type": "code",
   "execution_count": 6,
   "metadata": {},
   "outputs": [],
   "source": [
    "images_maza = []\n",
    "for filename in os.listdir('data/maza'):\n",
    "    if filename.endswith('.jpg') or filename.endswith('.png'):\n",
    "        img_path = os.path.join('data/maza', filename)\n",
    "        img = cv2.imread(img_path)\n",
    "        img = cv2.cvtColor(img, cv2.COLOR_BGR2RGB)\n",
    "        images_maza.append(img)"
   ]
  },
  {
   "cell_type": "code",
   "execution_count": 7,
   "metadata": {},
   "outputs": [],
   "source": [
    "images_munch = []\n",
    "for filename in os.listdir('data/munch'):\n",
    "    if filename.endswith('.jpg') or filename.endswith('.png'):\n",
    "        img_path = os.path.join('data/munch', filename)\n",
    "        img = cv2.imread(img_path)\n",
    "        img = cv2.cvtColor(img, cv2.COLOR_BGR2RGB)\n",
    "        images_munch.append(img)"
   ]
  },
  {
   "cell_type": "code",
   "execution_count": 8,
   "metadata": {},
   "outputs": [],
   "source": [
    "images_thums = []\n",
    "for filename in os.listdir('data/thums_up'):\n",
    "    if filename.endswith('.jpg') or filename.endswith('.png'):\n",
    "        img_path = os.path.join('data/thums_up', filename)\n",
    "        img = cv2.imread(img_path)\n",
    "        img = cv2.cvtColor(img, cv2.COLOR_BGR2RGB)\n",
    "        images_thums.append(img)"
   ]
  },
  {
   "cell_type": "code",
   "execution_count": 9,
   "metadata": {},
   "outputs": [],
   "source": [
    "images_timepass = []\n",
    "for filename in os.listdir('data/time_pass'):\n",
    "    if filename.endswith('.jpg') or filename.endswith('.png'):\n",
    "        img_path = os.path.join('data/time_pass', filename)\n",
    "        img = cv2.imread(img_path)\n",
    "        img = cv2.cvtColor(img, cv2.COLOR_BGR2RGB)\n",
    "        images_timepass.append(img)"
   ]
  },
  {
   "cell_type": "code",
   "execution_count": 42,
   "metadata": {},
   "outputs": [],
   "source": [
    "datagen=ImageDataGenerator(\n",
    "    rotation_range=20,\n",
    "    zoom_range=0.03,\n",
    "    width_shift_range=0.1,\n",
    "    height_shift_range=0.1,\n",
    "    horizontal_flip=True,\n",
    "    vertical_flip=True,\n",
    "    brightness_range=[0.5, 1.5],\n",
    "    fill_mode='nearest'\n",
    ")"
   ]
  },
  {
   "cell_type": "code",
   "execution_count": 32,
   "metadata": {},
   "outputs": [],
   "source": [
    "cls= ['lays','dove']"
   ]
  },
  {
   "cell_type": "code",
   "execution_count": 33,
   "metadata": {},
   "outputs": [],
   "source": [
    "def lays_train(x):\n",
    "    i=0\n",
    "    for batch in datagen.flow(x,batch_size=1,save_to_dir='aug_data/train/lays',save_prefix='lays',save_format='jpg',):\n",
    "        i+=1\n",
    "        if i>=30:\n",
    "            break\n",
    "\n",
    "def munch_train(x):\n",
    "    i=0\n",
    "    for batch in datagen.flow(x,batch_size=1,save_to_dir='aug_data/train/munch',save_prefix='munch',save_format='jpg',):\n",
    "        i+=1\n",
    "        if i>=30:\n",
    "            break\n",
    "\n",
    "def dove_train(x):\n",
    "    i=0\n",
    "    for batch in datagen.flow(x,batch_size=1,save_to_dir='aug_data/train/dove',save_prefix='dove',save_format='jpg',):\n",
    "        i+=1\n",
    "        if i>=30:\n",
    "            break\n",
    "\n",
    "def maza_train(x):\n",
    "    i=0\n",
    "    for batch in datagen.flow(x,batch_size=1,save_to_dir='aug_data/train/maza',save_prefix='maza',save_format='jpg',):\n",
    "        i+=1\n",
    "        if i>=30:\n",
    "            break\n",
    "\n",
    "def thums_up_train(x):\n",
    "    i=0\n",
    "    for batch in datagen.flow(x,batch_size=1,save_to_dir='aug_data/train/thums_up',save_prefix='thums_up',save_format='jpg',):\n",
    "        i+=1\n",
    "        if i>=30:\n",
    "            break\n",
    "\n",
    "def time_pass_train(x):\n",
    "    i=0\n",
    "    for batch in datagen.flow(x,batch_size=1,save_to_dir='aug_data/train/time_pass',save_prefix='time_pass',save_format='jpg',):\n",
    "        i+=1\n",
    "        if i>=30:\n",
    "            break\n",
    "\n",
    "def marble_cake_train(x):\n",
    "    i=0\n",
    "    for batch in datagen.flow(x,batch_size=1,save_to_dir='aug_data/train/marble_cake',save_prefix='marble_cake',save_format='jpg',):\n",
    "        i+=1\n",
    "        if i>=30:\n",
    "            break"
   ]
  },
  {
   "cell_type": "code",
   "execution_count": 34,
   "metadata": {},
   "outputs": [],
   "source": [
    "for i in images_dove:\n",
    "    x=img_to_array(i)\n",
    "    x=x.reshape((1,)+x.shape)\n",
    "    dove_train(x)"
   ]
  },
  {
   "cell_type": "code",
   "execution_count": 35,
   "metadata": {},
   "outputs": [],
   "source": [
    "for i in images_lays:\n",
    "    x=img_to_array(i)\n",
    "    x=x.reshape((1,)+x.shape)\n",
    "    lays_train(x)"
   ]
  },
  {
   "cell_type": "code",
   "execution_count": 36,
   "metadata": {},
   "outputs": [],
   "source": [
    "for i in images_munch:\n",
    "    x=img_to_array(i)\n",
    "    x=x.reshape((1,)+x.shape)\n",
    "    munch_train(x)"
   ]
  },
  {
   "cell_type": "code",
   "execution_count": 37,
   "metadata": {},
   "outputs": [],
   "source": [
    "for i in images_maza:\n",
    "    x=img_to_array(i)\n",
    "    x=x.reshape((1,)+x.shape)\n",
    "    maza_train(x)"
   ]
  },
  {
   "cell_type": "code",
   "execution_count": 43,
   "metadata": {},
   "outputs": [],
   "source": [
    "for i in images_thums:\n",
    "    x=img_to_array(i)\n",
    "    x=x.reshape((1,)+x.shape)\n",
    "    thums_up_train(x)"
   ]
  },
  {
   "cell_type": "code",
   "execution_count": 39,
   "metadata": {},
   "outputs": [],
   "source": [
    "for i in images_cake:\n",
    "    x=img_to_array(i)\n",
    "    x=x.reshape((1,)+x.shape)\n",
    "    marble_cake_train(x)"
   ]
  },
  {
   "cell_type": "code",
   "execution_count": 40,
   "metadata": {},
   "outputs": [],
   "source": [
    "for i in images_timepass:\n",
    "    x=img_to_array(i)\n",
    "    x=x.reshape((1,)+x.shape)\n",
    "    time_pass_train(x)"
   ]
  },
  {
   "cell_type": "code",
   "execution_count": 44,
   "metadata": {},
   "outputs": [],
   "source": [
    "import os\n",
    "import shutil\n",
    "import random\n",
    "\n",
    "def move_random_images(source_dir, destination_dir, percentage=0.2):\n",
    "    # Create the destination directory if it doesn't exist\n",
    "    os.makedirs(destination_dir, exist_ok=True)\n",
    "    \n",
    "    # Get a list of all image files in the source directory\n",
    "    all_files = [f for f in os.listdir(source_dir) if os.path.isfile(os.path.join(source_dir, f))]\n",
    "    image_files = [f for f in all_files if f.lower().endswith(('png', 'jpg', 'jpeg', 'gif', 'bmp', 'tiff'))]\n",
    "    \n",
    "    # Randomly select 20% of the images\n",
    "    num_to_move = int(len(image_files) * percentage)\n",
    "    images_to_move = random.sample(image_files, num_to_move)\n",
    "    \n",
    "    # Move the selected images to the destination directory\n",
    "    for image in images_to_move:\n",
    "        src_path = os.path.join(source_dir, image)\n",
    "        dst_path = os.path.join(destination_dir, image)\n",
    "        shutil.move(src_path, dst_path)\n",
    "    \n",
    "    print(f\"Moved {num_to_move} images from {source_dir} to {destination_dir}.\")\n",
    "\n"
   ]
  },
  {
   "cell_type": "code",
   "execution_count": 45,
   "metadata": {},
   "outputs": [
    {
     "name": "stdout",
     "output_type": "stream",
     "text": [
      "Moved 35 images from aug_data/train/lays to aug_data/test/lays.\n",
      "Moved 34 images from aug_data/train/munch to aug_data/test/munch.\n",
      "Moved 35 images from aug_data/train/dove to aug_data/test/dove.\n",
      "Moved 35 images from aug_data/train/marble_cake to aug_data/test/marble_cake.\n",
      "Moved 35 images from aug_data/train/maza to aug_data/test/maza.\n",
      "Moved 34 images from aug_data/train/thums_up to aug_data/test/thums_up.\n",
      "Moved 34 images from aug_data/train/time_pass to aug_data/test/time_pass.\n"
     ]
    }
   ],
   "source": [
    "move_random_images('aug_data/train/lays', 'aug_data/test/lays')\n",
    "move_random_images('aug_data/train/munch', 'aug_data/test/munch')\n",
    "move_random_images('aug_data/train/dove', 'aug_data/test/dove')\n",
    "move_random_images('aug_data/train/marble_cake', 'aug_data/test/marble_cake')\n",
    "move_random_images('aug_data/train/maza', 'aug_data/test/maza')\n",
    "move_random_images('aug_data/train/thums_up', 'aug_data/test/thums_up')\n",
    "move_random_images('aug_data/train/time_pass', 'aug_data/test/time_pass')"
   ]
  },
  {
   "cell_type": "code",
   "execution_count": null,
   "metadata": {},
   "outputs": [],
   "source": []
  }
 ],
 "metadata": {
  "kernelspec": {
   "display_name": "gpu_env",
   "language": "python",
   "name": "python3"
  },
  "language_info": {
   "codemirror_mode": {
    "name": "ipython",
    "version": 3
   },
   "file_extension": ".py",
   "mimetype": "text/x-python",
   "name": "python",
   "nbconvert_exporter": "python",
   "pygments_lexer": "ipython3",
   "version": "3.12.2"
  }
 },
 "nbformat": 4,
 "nbformat_minor": 2
}
